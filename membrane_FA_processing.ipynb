{
 "cells": [
  {
   "cell_type": "code",
   "execution_count": null,
   "metadata": {},
   "outputs": [],
   "source": [
    "import os\n",
    "import cv2\n",
    "import numpy as np\n",
    "from skimage.color import rgb2gray\n",
    "from scipy import ndimage"
   ]
  },
  {
   "cell_type": "code",
   "execution_count": null,
   "metadata": {},
   "outputs": [],
   "source": [
    "def fa_processing(img_path: str, size_threshold: int, scale: float, output_img_path: str):\n",
    "    '''\n",
    "    Returns numpy arrays for the binary and segmented FA images from the raw FA images.\n",
    "\n",
    "        Parameters:\n",
    "                img_path: A string of the path to the image containing raw FA\n",
    "                size_threshold: An integer value for size threshold; any FAs with an area less than this value are dropped\n",
    "                scale: A float value for image scale (microns/pixel)\n",
    "                output_img_path: A string of the path to the output binary FA image\n",
    "\n",
    "        Returns:\n",
    "                binary_img: A numpy array of the binary FA image\n",
    "                seg_img: A numpy array of the segmented FA image\n",
    "                output_img: Writes the binary FA image to user defined path\n",
    "    '''\n",
    "    # Read image and extract FA channel into a new empty image\n",
    "    img = cv2.imread(img_path)\n",
    "    res = np.zeros((256, 256, 3))\n",
    "    res[:,:,1] = img[:,:,1]\n",
    "    # Apply a top hat filter with 3x3 rectangular kernel and place filtered image into a new empty image\n",
    "    filterSize =(3, 3)\n",
    "    kernel = cv2.getStructuringElement(cv2.MORPH_RECT, filterSize)\n",
    "    tophat_img = cv2.morphologyEx(res[:,:,1], cv2.MORPH_TOPHAT, kernel)        \n",
    "    processed_img = res\n",
    "    processed_img[:,:,1] = tophat_img\n",
    "    # Binarize filtered FA image\n",
    "    ret, bw_img = cv2.threshold(processed_img,10,255,cv2.THRESH_BINARY)\n",
    "    gray = rgb2gray(bw_img)\n",
    "    gray = gray * 255\n",
    "    gray = gray.astype(np.uint8)\n",
    "    ret, out_l = cv2.threshold(gray,10,255,cv2.THRESH_BINARY)\n",
    "    # Find the contours of each FA\n",
    "    contours, hier = cv2.findContours(out_l, cv2.RETR_EXTERNAL, cv2.CHAIN_APPROX_SIMPLE)\n",
    "    binary_img = np.zeros((256,256))\n",
    "    # Iterate through each contour\n",
    "    for cntr in contours:\n",
    "        # Use bouding rectangle to find width and height of each FA to calculate area\n",
    "        x,y,w,h = cv2.boundingRect(cntr)\n",
    "        w = w*scale\n",
    "        h = h*scale\n",
    "        area = w*h\n",
    "        # Write FAs that have an area equal or greater than the threshold into a new empty image\n",
    "        if area >= size_threshold:\n",
    "            cv2.drawContours(binary_img, [cntr], 0, (255, 0, 0), -1)\n",
    "    # Apply laplacian operator to binary FA image to obtain segmented FA image\n",
    "    kernel_laplace = np.array([np.array([1, 1, 1]), np.array([1, -8, 1]), np.array([1, 1, 1])])\n",
    "    seg_img = ndimage.convolve(binary_img, kernel_laplace, mode='constant')\n",
    "    seg_img = seg_img * 255\n",
    "    ret, seg_img = cv2.threshold(seg_img,10,255,cv2.THRESH_BINARY)\n",
    "    output_img = cv2.imwrite(output_img_path, binary_img)\n",
    "    return binary_img, seg_img, output_img"
   ]
  },
  {
   "cell_type": "code",
   "execution_count": null,
   "metadata": {},
   "outputs": [],
   "source": [
    "def membrane_processing(img_path: str, output_img_path: str):\n",
    "    '''\n",
    "    Returns numpy array for the segmented membrane image from the raw membrane image.\n",
    "\n",
    "        Parameters:\n",
    "                img_path: A string of the path to the image containing raw membrane\n",
    "                output_img_path: A string of the path to the output segmented membrane image\n",
    "\n",
    "        Returns:\n",
    "                seg_img: A numpy array of the segmented membrane image\n",
    "                output_img: Writes the segmented membrane image to user defined path\n",
    "    '''\n",
    "    # Read image and extract membrane channel to binarize\n",
    "    membrane = cv2.imread(img_path)\n",
    "    ret, bw_img = cv2.threshold(membrane[:,:,2],10,255,cv2.THRESH_BINARY)\n",
    "    # Place binary membrane channel into a new empty image\n",
    "    res = np.zeros((256, 256, 3))\n",
    "    res[:,:,2] = bw_img\n",
    "    gray = rgb2gray(res)\n",
    "    # Apply laplacian operator to binary membrane image to obtain segmented membrane image\n",
    "    kernel_laplace = np.array([np.array([1, 1, 1]), np.array([1, -8, 1]), np.array([1, 1, 1])])\n",
    "    out_l = ndimage.convolve(gray, kernel_laplace, mode='constant')\n",
    "    out_l = out_l * 255\n",
    "    ret, seg_img = cv2.threshold(out_l,10,255,cv2.THRESH_BINARY)\n",
    "    output_img = cv2.imwrite(output_img_path, seg_img)\n",
    "    return seg_img, output_img"
   ]
  },
  {
   "cell_type": "code",
   "execution_count": null,
   "metadata": {},
   "outputs": [],
   "source": [
    "membrane_processing('unprocessed_ground_truth.png', 'membrane_segmented2.png')"
   ]
  },
  {
   "cell_type": "code",
   "execution_count": null,
   "metadata": {},
   "outputs": [],
   "source": [
    "fa_processing('unprocessed_ground_truth.png', 1, 0.7, 'FA_truth_binary2.png')"
   ]
  },
  {
   "cell_type": "code",
   "execution_count": null,
   "metadata": {},
   "outputs": [],
   "source": []
  }
 ],
 "metadata": {
  "kernelspec": {
   "display_name": "Python 3",
   "language": "python",
   "name": "python3"
  },
  "language_info": {
   "codemirror_mode": {
    "name": "ipython",
    "version": 3
   },
   "file_extension": ".py",
   "mimetype": "text/x-python",
   "name": "python",
   "nbconvert_exporter": "python",
   "pygments_lexer": "ipython3",
   "version": "3.8.5"
  }
 },
 "nbformat": 4,
 "nbformat_minor": 4
}
